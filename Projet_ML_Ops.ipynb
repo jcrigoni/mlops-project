{
 "cells": [
  {
   "cell_type": "markdown",
   "metadata": {},
   "source": [
    "## MLFLOW TRACKING"
   ]
  },
  {
   "cell_type": "code",
   "execution_count": 17,
   "metadata": {},
   "outputs": [
    {
     "name": "stdout",
     "output_type": "stream",
     "text": [
      "^C\n"
     ]
    }
   ],
   "source": [
    "\n",
    "# starts an MLflow server locally.\n",
    "!mlflow server --host 127.0.0.1 --port 8082"
   ]
  },
  {
   "cell_type": "code",
   "execution_count": 18,
   "metadata": {},
   "outputs": [],
   "source": [
    "from mlflow import MlflowClient\n",
    "from pprint import pprint\n"
   ]
  },
  {
   "cell_type": "code",
   "execution_count": 19,
   "metadata": {},
   "outputs": [],
   "source": [
    "# In order to connect to the tracking server, we’ll need to use the uri that we assigned the server when we started it.\n",
    "\n",
    "client = MlflowClient(tracking_uri=\"http://127.0.0.1:8082\")\n",
    "\n",
    "#it allows programmatic interaction with the MLflow tracking server."
   ]
  },
  {
   "cell_type": "code",
   "execution_count": 20,
   "metadata": {},
   "outputs": [
    {
     "name": "stdout",
     "output_type": "stream",
     "text": [
      "[<Experiment: artifact_location='mlflow-artifacts:/0', creation_time=1725612823132, experiment_id='0', last_update_time=1725612823132, lifecycle_stage='active', name='Default', tags={}>]\n"
     ]
    }
   ],
   "source": [
    "all_experiments = client.search_experiments()\n",
    "\n",
    "print(all_experiments)"
   ]
  },
  {
   "cell_type": "code",
   "execution_count": 21,
   "metadata": {},
   "outputs": [],
   "source": [
    "# Provide an Experiment description that will appear in the UI\n",
    "experiment_description = (\n",
    "    \"This is the loan default forecasting project. \"\n",
    "    \"This experiment contains the produce models for bank loans.\"\n",
    ")\n",
    "\n",
    "# Provide searchable tags that define characteristics of the Runs that\n",
    "# will be in this Experiment\n",
    "experiment_tags = {\n",
    "    \"project_name\": \"ML OPS Loan Default\",\n",
    "    \"store_dept\": \"predict\",\n",
    "    \"team\": \"Rodner Kallel Rigoni\",\n",
    "    \"project_quarter\": \"Q3-2024\",\n",
    "    \"mlflow.note.content\": experiment_description,\n",
    "}\n",
    "\n",
    "# Create the Experiment, providing a unique name\n",
    "produce_loans_experiment = client.create_experiment(\n",
    "    name=\"Loan_Default_Models\", tags=experiment_tags\n",
    ")\n"
   ]
  },
  {
   "cell_type": "code",
   "execution_count": 22,
   "metadata": {},
   "outputs": [
    {
     "name": "stdout",
     "output_type": "stream",
     "text": [
      "{'_experiment_id': '536545812455838994', '_name': 'Loan_Default_Models', '_artifact_location': 'mlflow-artifacts:/536545812455838994', '_lifecycle_stage': 'active', '_tags': {'mlflow.note.content': 'This is the loan default forecasting project. This experiment contains the produce models for bank loans.', 'project_name': 'ML OPS Loan Default', 'project_quarter': 'Q3-2024', 'store_dept': 'predict', 'team': 'Rodner Kallel Rigoni'}, '_creation_time': 1725612850593, '_last_update_time': 1725612850593}\n"
     ]
    }
   ],
   "source": [
    "# Use search_experiments() to search on the project_name tag key\n",
    "\n",
    "loans_experiment = client.search_experiments(\n",
    "    filter_string=\"tags.`project_name` = 'ML OPS Loan Default'\"\n",
    ")\n",
    "\n",
    "print(vars(loans_experiment[0]))"
   ]
  },
  {
   "cell_type": "code",
   "execution_count": 23,
   "metadata": {},
   "outputs": [],
   "source": [
    "# This function call sets the global tracking URI for the current session.\n",
    "# It’s a convenient way to configure the tracking server URI without creating a separate client instance.\n",
    "import mlflow\n",
    "\n",
    "mlflow.set_tracking_uri(\"http://127.0.0.1:8082\")"
   ]
  },
  {
   "cell_type": "code",
   "execution_count": 24,
   "metadata": {},
   "outputs": [],
   "source": [
    "# Sets the current active experiment to the \"Loan_Default_Models\" experiment and\n",
    "# returns the Experiment metadata\n",
    "loan_experiment = mlflow.set_experiment(\"Loan_Default_Models\")\n",
    "\n",
    "# Define a run name for this iteration of training.\n",
    "# If this is not set, a unique name will be auto-generated for your run.\n",
    "run_name = \"loans_rf_test\"\n",
    "\n",
    "# Define an artifact path that the model will be saved to.\n",
    "artifact_path = \"rf_loans\""
   ]
  },
  {
   "cell_type": "markdown",
   "metadata": {},
   "source": [
    "## MODELS"
   ]
  },
  {
   "cell_type": "code",
   "execution_count": 1,
   "metadata": {},
   "outputs": [],
   "source": [
    "# Importing the necessary libraries\n",
    "import numpy as np\n",
    "import pandas as pd"
   ]
  },
  {
   "cell_type": "code",
   "execution_count": 2,
   "metadata": {},
   "outputs": [
    {
     "data": {
      "text/html": [
       "<div>\n",
       "<style scoped>\n",
       "    .dataframe tbody tr th:only-of-type {\n",
       "        vertical-align: middle;\n",
       "    }\n",
       "\n",
       "    .dataframe tbody tr th {\n",
       "        vertical-align: top;\n",
       "    }\n",
       "\n",
       "    .dataframe thead th {\n",
       "        text-align: right;\n",
       "    }\n",
       "</style>\n",
       "<table border=\"1\" class=\"dataframe\">\n",
       "  <thead>\n",
       "    <tr style=\"text-align: right;\">\n",
       "      <th></th>\n",
       "      <th>customer_id</th>\n",
       "      <th>credit_lines_outstanding</th>\n",
       "      <th>loan_amt_outstanding</th>\n",
       "      <th>total_debt_outstanding</th>\n",
       "      <th>income</th>\n",
       "      <th>years_employed</th>\n",
       "      <th>fico_score</th>\n",
       "      <th>default</th>\n",
       "    </tr>\n",
       "  </thead>\n",
       "  <tbody>\n",
       "    <tr>\n",
       "      <th>0</th>\n",
       "      <td>8153374</td>\n",
       "      <td>0</td>\n",
       "      <td>5221.545193</td>\n",
       "      <td>3915.471226</td>\n",
       "      <td>78039.38546</td>\n",
       "      <td>5</td>\n",
       "      <td>605</td>\n",
       "      <td>0</td>\n",
       "    </tr>\n",
       "    <tr>\n",
       "      <th>1</th>\n",
       "      <td>7442532</td>\n",
       "      <td>5</td>\n",
       "      <td>1958.928726</td>\n",
       "      <td>8228.752520</td>\n",
       "      <td>26648.43525</td>\n",
       "      <td>2</td>\n",
       "      <td>572</td>\n",
       "      <td>1</td>\n",
       "    </tr>\n",
       "  </tbody>\n",
       "</table>\n",
       "</div>"
      ],
      "text/plain": [
       "   customer_id  credit_lines_outstanding  loan_amt_outstanding  \\\n",
       "0      8153374                         0           5221.545193   \n",
       "1      7442532                         5           1958.928726   \n",
       "\n",
       "   total_debt_outstanding       income  years_employed  fico_score  default  \n",
       "0             3915.471226  78039.38546               5         605        0  \n",
       "1             8228.752520  26648.43525               2         572        1  "
      ]
     },
     "execution_count": 2,
     "metadata": {},
     "output_type": "execute_result"
    }
   ],
   "source": [
    "# Load the data from the 'Loan_Data.csv' file into a DataFrame named df\n",
    "df = pd.read_csv('Cours_MLOPS/Loan_Data.csv')\n",
    "df.head(2)"
   ]
  },
  {
   "cell_type": "markdown",
   "metadata": {},
   "source": [
    "#### DataFrame General Observation"
   ]
  },
  {
   "cell_type": "code",
   "execution_count": 3,
   "metadata": {},
   "outputs": [
    {
     "data": {
      "text/plain": [
       "(10000, 8)"
      ]
     },
     "execution_count": 3,
     "metadata": {},
     "output_type": "execute_result"
    }
   ],
   "source": [
    "df.shape"
   ]
  },
  {
   "cell_type": "code",
   "execution_count": 4,
   "metadata": {},
   "outputs": [
    {
     "data": {
      "text/plain": [
       "customer_id                   int64\n",
       "credit_lines_outstanding      int64\n",
       "loan_amt_outstanding        float64\n",
       "total_debt_outstanding      float64\n",
       "income                      float64\n",
       "years_employed                int64\n",
       "fico_score                    int64\n",
       "default                       int64\n",
       "dtype: object"
      ]
     },
     "execution_count": 4,
     "metadata": {},
     "output_type": "execute_result"
    }
   ],
   "source": [
    "df.dtypes"
   ]
  },
  {
   "cell_type": "markdown",
   "metadata": {},
   "source": [
    "The DataFrame contains 10k observations and 8 variables, all of which are numerical."
   ]
  },
  {
   "cell_type": "markdown",
   "metadata": {},
   "source": [
    "#### Missing Values"
   ]
  },
  {
   "cell_type": "code",
   "execution_count": 5,
   "metadata": {},
   "outputs": [
    {
     "data": {
      "text/plain": [
       "customer_id                 0\n",
       "credit_lines_outstanding    0\n",
       "loan_amt_outstanding        0\n",
       "total_debt_outstanding      0\n",
       "income                      0\n",
       "years_employed              0\n",
       "fico_score                  0\n",
       "default                     0\n",
       "dtype: int64"
      ]
     },
     "execution_count": 5,
     "metadata": {},
     "output_type": "execute_result"
    }
   ],
   "source": [
    "# Count NaN values for each column\n",
    "df.isna().sum()"
   ]
  },
  {
   "cell_type": "markdown",
   "metadata": {},
   "source": [
    "The DataFrame does not contain any NaN values."
   ]
  },
  {
   "cell_type": "markdown",
   "metadata": {},
   "source": [
    "#### Studying the classes' balance"
   ]
  },
  {
   "cell_type": "code",
   "execution_count": 30,
   "metadata": {},
   "outputs": [
    {
     "name": "stdout",
     "output_type": "stream",
     "text": [
      "Class 1, Loan Default percentage : 18.51 %\n",
      "Class 0, Loan Non-Default percentage : 81.49 %\n"
     ]
    }
   ],
   "source": [
    "# Display class 1 percentage over the whole dataset\n",
    "print(\"Class 1, Loan Default percentage :\",round(df['default'].sum() / len(df)*100,2),\"%\")\n",
    "print(\"Class 0, Loan Non-Default percentage :\",100 - round(df['default'].sum() / len(df)*100,2),\"%\")"
   ]
  },
  {
   "cell_type": "markdown",
   "metadata": {},
   "source": [
    "#### DataFrame Statistics"
   ]
  },
  {
   "cell_type": "code",
   "execution_count": 7,
   "metadata": {},
   "outputs": [
    {
     "data": {
      "text/html": [
       "<div>\n",
       "<style scoped>\n",
       "    .dataframe tbody tr th:only-of-type {\n",
       "        vertical-align: middle;\n",
       "    }\n",
       "\n",
       "    .dataframe tbody tr th {\n",
       "        vertical-align: top;\n",
       "    }\n",
       "\n",
       "    .dataframe thead th {\n",
       "        text-align: right;\n",
       "    }\n",
       "</style>\n",
       "<table border=\"1\" class=\"dataframe\">\n",
       "  <thead>\n",
       "    <tr style=\"text-align: right;\">\n",
       "      <th></th>\n",
       "      <th>credit_lines_outstanding</th>\n",
       "      <th>loan_amt_outstanding</th>\n",
       "      <th>total_debt_outstanding</th>\n",
       "      <th>income</th>\n",
       "      <th>years_employed</th>\n",
       "      <th>fico_score</th>\n",
       "      <th>default</th>\n",
       "    </tr>\n",
       "  </thead>\n",
       "  <tbody>\n",
       "    <tr>\n",
       "      <th>count</th>\n",
       "      <td>10000.00</td>\n",
       "      <td>10000.00</td>\n",
       "      <td>10000.00</td>\n",
       "      <td>10000.00</td>\n",
       "      <td>10000.00</td>\n",
       "      <td>10000.00</td>\n",
       "      <td>10000.00</td>\n",
       "    </tr>\n",
       "    <tr>\n",
       "      <th>mean</th>\n",
       "      <td>1.46</td>\n",
       "      <td>4159.68</td>\n",
       "      <td>8718.92</td>\n",
       "      <td>70039.90</td>\n",
       "      <td>4.55</td>\n",
       "      <td>637.56</td>\n",
       "      <td>0.19</td>\n",
       "    </tr>\n",
       "    <tr>\n",
       "      <th>std</th>\n",
       "      <td>1.74</td>\n",
       "      <td>1421.40</td>\n",
       "      <td>6627.16</td>\n",
       "      <td>20072.21</td>\n",
       "      <td>1.57</td>\n",
       "      <td>60.66</td>\n",
       "      <td>0.39</td>\n",
       "    </tr>\n",
       "    <tr>\n",
       "      <th>min</th>\n",
       "      <td>0.00</td>\n",
       "      <td>46.78</td>\n",
       "      <td>31.65</td>\n",
       "      <td>1000.00</td>\n",
       "      <td>0.00</td>\n",
       "      <td>408.00</td>\n",
       "      <td>0.00</td>\n",
       "    </tr>\n",
       "    <tr>\n",
       "      <th>25%</th>\n",
       "      <td>0.00</td>\n",
       "      <td>3154.24</td>\n",
       "      <td>4199.84</td>\n",
       "      <td>56539.87</td>\n",
       "      <td>3.00</td>\n",
       "      <td>597.00</td>\n",
       "      <td>0.00</td>\n",
       "    </tr>\n",
       "    <tr>\n",
       "      <th>50%</th>\n",
       "      <td>1.00</td>\n",
       "      <td>4052.38</td>\n",
       "      <td>6732.41</td>\n",
       "      <td>70085.83</td>\n",
       "      <td>5.00</td>\n",
       "      <td>638.00</td>\n",
       "      <td>0.00</td>\n",
       "    </tr>\n",
       "    <tr>\n",
       "      <th>75%</th>\n",
       "      <td>2.00</td>\n",
       "      <td>5052.90</td>\n",
       "      <td>11272.26</td>\n",
       "      <td>83429.17</td>\n",
       "      <td>6.00</td>\n",
       "      <td>679.00</td>\n",
       "      <td>0.00</td>\n",
       "    </tr>\n",
       "    <tr>\n",
       "      <th>max</th>\n",
       "      <td>5.00</td>\n",
       "      <td>10750.68</td>\n",
       "      <td>43688.78</td>\n",
       "      <td>148412.18</td>\n",
       "      <td>10.00</td>\n",
       "      <td>850.00</td>\n",
       "      <td>1.00</td>\n",
       "    </tr>\n",
       "  </tbody>\n",
       "</table>\n",
       "</div>"
      ],
      "text/plain": [
       "       credit_lines_outstanding  loan_amt_outstanding  total_debt_outstanding  \\\n",
       "count                  10000.00              10000.00                10000.00   \n",
       "mean                       1.46               4159.68                 8718.92   \n",
       "std                        1.74               1421.40                 6627.16   \n",
       "min                        0.00                 46.78                   31.65   \n",
       "25%                        0.00               3154.24                 4199.84   \n",
       "50%                        1.00               4052.38                 6732.41   \n",
       "75%                        2.00               5052.90                11272.26   \n",
       "max                        5.00              10750.68                43688.78   \n",
       "\n",
       "         income  years_employed  fico_score  default  \n",
       "count  10000.00        10000.00    10000.00 10000.00  \n",
       "mean   70039.90            4.55      637.56     0.19  \n",
       "std    20072.21            1.57       60.66     0.39  \n",
       "min     1000.00            0.00      408.00     0.00  \n",
       "25%    56539.87            3.00      597.00     0.00  \n",
       "50%    70085.83            5.00      638.00     0.00  \n",
       "75%    83429.17            6.00      679.00     0.00  \n",
       "max   148412.18           10.00      850.00     1.00  "
      ]
     },
     "execution_count": 7,
     "metadata": {},
     "output_type": "execute_result"
    }
   ],
   "source": [
    "# Avoid scientific digital format\n",
    "pd.options.display.float_format = '{:.2f}'.format\n",
    "\n",
    "# Display Statistics\n",
    "df[['credit_lines_outstanding', 'loan_amt_outstanding',\n",
    "       'total_debt_outstanding', 'income', 'years_employed', 'fico_score',\n",
    "       'default']].describe()"
   ]
  },
  {
   "cell_type": "markdown",
   "metadata": {},
   "source": [
    "#### Standardizing income and debts"
   ]
  },
  {
   "cell_type": "code",
   "execution_count": 8,
   "metadata": {},
   "outputs": [
    {
     "data": {
      "text/html": [
       "<div>\n",
       "<style scoped>\n",
       "    .dataframe tbody tr th:only-of-type {\n",
       "        vertical-align: middle;\n",
       "    }\n",
       "\n",
       "    .dataframe tbody tr th {\n",
       "        vertical-align: top;\n",
       "    }\n",
       "\n",
       "    .dataframe thead th {\n",
       "        text-align: right;\n",
       "    }\n",
       "</style>\n",
       "<table border=\"1\" class=\"dataframe\">\n",
       "  <thead>\n",
       "    <tr style=\"text-align: right;\">\n",
       "      <th></th>\n",
       "      <th>customer_id</th>\n",
       "      <th>credit_lines_outstanding</th>\n",
       "      <th>loan_amt_outstanding</th>\n",
       "      <th>total_debt_outstanding</th>\n",
       "      <th>income</th>\n",
       "      <th>years_employed</th>\n",
       "      <th>fico_score</th>\n",
       "      <th>default</th>\n",
       "    </tr>\n",
       "  </thead>\n",
       "  <tbody>\n",
       "    <tr>\n",
       "      <th>0</th>\n",
       "      <td>8153374</td>\n",
       "      <td>0</td>\n",
       "      <td>0.75</td>\n",
       "      <td>-0.72</td>\n",
       "      <td>0.40</td>\n",
       "      <td>5</td>\n",
       "      <td>605</td>\n",
       "      <td>0</td>\n",
       "    </tr>\n",
       "    <tr>\n",
       "      <th>1</th>\n",
       "      <td>7442532</td>\n",
       "      <td>5</td>\n",
       "      <td>-1.55</td>\n",
       "      <td>-0.07</td>\n",
       "      <td>-2.16</td>\n",
       "      <td>2</td>\n",
       "      <td>572</td>\n",
       "      <td>1</td>\n",
       "    </tr>\n",
       "  </tbody>\n",
       "</table>\n",
       "</div>"
      ],
      "text/plain": [
       "   customer_id  credit_lines_outstanding  loan_amt_outstanding  \\\n",
       "0      8153374                         0                  0.75   \n",
       "1      7442532                         5                 -1.55   \n",
       "\n",
       "   total_debt_outstanding  income  years_employed  fico_score  default  \n",
       "0                   -0.72    0.40               5         605        0  \n",
       "1                   -0.07   -2.16               2         572        1  "
      ]
     },
     "execution_count": 8,
     "metadata": {},
     "output_type": "execute_result"
    }
   ],
   "source": [
    "# Create standardization function\n",
    "def standard_columns(column):\n",
    "    return (column - column.mean()) / column.std() \n",
    "\n",
    "# Standardize the floats variables\n",
    "df[df.select_dtypes([\"float\"]).columns] = df[\n",
    "    df.select_dtypes([\"float\"]).columns \n",
    "].apply(standard_columns)\n",
    "df.head(2)"
   ]
  },
  {
   "cell_type": "code",
   "execution_count": 9,
   "metadata": {},
   "outputs": [],
   "source": [
    "# Import tools necessary for all models\n",
    "from sklearn.model_selection import train_test_split\n",
    "from sklearn.metrics import classification_report, confusion_matrix\n",
    "\n",
    "# Set target and features columns\n",
    "col_target = \"default\"\n",
    "col_features = df.columns.tolist()[1:-1] # Get all the columns except the customer_id and the target columns\n",
    "\n",
    "# Instanciate target and features into numpy array for all the models\n",
    "X = np.array(df[col_features]).astype(float) # Convert the features to a numpy array\n",
    "y = np.array(df[col_target]) # Convert the target to a numpy array"
   ]
  },
  {
   "cell_type": "markdown",
   "metadata": {},
   "source": [
    "### First Model: Scikit-Learn Logistic Regression\n",
    "With class weight balanced, and adding an intercept to the model"
   ]
  },
  {
   "cell_type": "code",
   "execution_count": 10,
   "metadata": {},
   "outputs": [
    {
     "name": "stdout",
     "output_type": "stream",
     "text": [
      "Confusion Matrix:\n",
      " [[2433   12]\n",
      " [   0  555]]\n",
      "\n",
      "Classification Report:\n",
      "               precision    recall  f1-score   support\n",
      "\n",
      "           0       1.00      1.00      1.00      2445\n",
      "           1       0.98      1.00      0.99       555\n",
      "\n",
      "    accuracy                           1.00      3000\n",
      "   macro avg       0.99      1.00      0.99      3000\n",
      "weighted avg       1.00      1.00      1.00      3000\n",
      "\n"
     ]
    },
    {
     "name": "stderr",
     "output_type": "stream",
     "text": [
      "c:\\Users\\jcrig\\mlops\\venv_mlops\\Lib\\site-packages\\sklearn\\linear_model\\_logistic.py:469: ConvergenceWarning: lbfgs failed to converge (status=1):\n",
      "STOP: TOTAL NO. of ITERATIONS REACHED LIMIT.\n",
      "\n",
      "Increase the number of iterations (max_iter) or scale the data as shown in:\n",
      "    https://scikit-learn.org/stable/modules/preprocessing.html\n",
      "Please also refer to the documentation for alternative solver options:\n",
      "    https://scikit-learn.org/stable/modules/linear_model.html#logistic-regression\n",
      "  n_iter_i = _check_optimize_result(\n"
     ]
    }
   ],
   "source": [
    "from sklearn.linear_model import LogisticRegression\n",
    "from statsmodels.tools import add_constant\n",
    "\n",
    "# Split the data into training and test sets with stratification\n",
    "X_train, X_test, y_train, y_test = train_test_split(X, y, test_size=0.3, stratify=y, random_state=43)\n",
    "\n",
    "# Add a constant (intercept) to the feature matrices\n",
    "X_train = add_constant(X_train)\n",
    "X_test = add_constant(X_test)\n",
    "\n",
    "# Create a logistic regression model with sklearn and handle class imbalance\n",
    "log_reg = LogisticRegression(class_weight='balanced')\n",
    "\n",
    "# Fit the model to the training data\n",
    "log_reg.fit(X_train, y_train)\n",
    "\n",
    "# Make predictions on the test set\n",
    "y_pred = log_reg.predict(X_test)  # Predicted classes (0 or 1)\n",
    "\n",
    "# Get the predicted probabilities for each observation\n",
    "y_pred_prob = log_reg.predict_proba(X_test)[:, 1]  # Probabilities for class 1\n",
    "\n",
    "# Evaluate the model\n",
    "print(\"Confusion Matrix:\\n\", confusion_matrix(y_test, y_pred))\n",
    "print(\"\\nClassification Report:\\n\", classification_report(y_test, y_pred))\n"
   ]
  },
  {
   "cell_type": "markdown",
   "metadata": {},
   "source": [
    "### Second Model: Statsmodels Logit"
   ]
  },
  {
   "cell_type": "code",
   "execution_count": 29,
   "metadata": {},
   "outputs": [
    {
     "name": "stdout",
     "output_type": "stream",
     "text": [
      "Optimization terminated successfully.\n",
      "         Current function value: 0.002094\n",
      "         Iterations 19\n",
      "                           Logit Regression Results                           \n",
      "==============================================================================\n",
      "Dep. Variable:                      y   No. Observations:                 7000\n",
      "Model:                          Logit   Df Residuals:                     6994\n",
      "Method:                           MLE   Df Model:                            5\n",
      "Date:                Fri, 06 Sep 2024   Pseudo R-squ.:                  0.9956\n",
      "Time:                        11:10:36   Log-Likelihood:                -14.660\n",
      "converged:                       True   LL-Null:                       -3353.7\n",
      "Covariance Type:            nonrobust   LLR p-value:                     0.000\n",
      "==============================================================================\n",
      "                 coef    std err          z      P>|z|      [0.025      0.975]\n",
      "------------------------------------------------------------------------------\n",
      "x1            50.8079     13.239      3.838      0.000      24.861      76.755\n",
      "x2             3.3195      1.388      2.391      0.017       0.598       6.041\n",
      "x3            43.0536     11.272      3.820      0.000      20.961      65.146\n",
      "x4           -29.5807      7.899     -3.745      0.000     -45.062     -14.099\n",
      "x5           -19.7981      5.163     -3.834      0.000     -29.918      -9.678\n",
      "x6            -0.1879      0.048     -3.883      0.000      -0.283      -0.093\n",
      "==============================================================================\n",
      "\n",
      "Possibly complete quasi-separation: A fraction 0.99 of observations can be\n",
      "perfectly predicted. This might indicate that there is complete\n",
      "quasi-separation. In this case some parameters will not be identified.\n",
      "Confusion Matrix:\n",
      " [[2445    0]\n",
      " [   2  553]]\n",
      "\n",
      "Classification Report:\n",
      "               precision    recall  f1-score   support\n",
      "\n",
      "           0       1.00      1.00      1.00      2445\n",
      "           1       1.00      1.00      1.00       555\n",
      "\n",
      "    accuracy                           1.00      3000\n",
      "   macro avg       1.00      1.00      1.00      3000\n",
      "weighted avg       1.00      1.00      1.00      3000\n",
      "\n"
     ]
    }
   ],
   "source": [
    "import statsmodels.api as sm\n",
    "\n",
    "# Split the data into training and test set with stratification\n",
    "X_train, X_test, y_train, y_test = train_test_split(X, y, test_size=0.3, stratify=y, random_state=43)\n",
    "\n",
    "# Create a logistic regression model with statsmodels\n",
    "model = sm.Logit(y_train, X_train,)\n",
    "\n",
    "# Fit the model to the training data\n",
    "result = model.fit()\n",
    "\n",
    "# Get the model summary\n",
    "summary = result.summary()\n",
    "print(summary)\n",
    "\n",
    "# Make predictions on the test set\n",
    "y_pred_prob = result.predict(X_test)  # Predicted probabilities\n",
    "\n",
    "# Convert probabilities into classes (0 or 1) with a 0.5 threshold\n",
    "y_pred = (y_pred_prob > 0.5).astype(int)\n",
    "\n",
    "# Evaluate the model\n",
    "print(\"Confusion Matrix:\\n\", confusion_matrix(y_test, y_pred))\n",
    "print(\"\\nClassification Report:\\n\", classification_report(y_test, y_pred))"
   ]
  },
  {
   "cell_type": "markdown",
   "metadata": {},
   "source": [
    "### Third Model: Decision Tree Classifier"
   ]
  },
  {
   "cell_type": "code",
   "execution_count": 12,
   "metadata": {},
   "outputs": [
    {
     "name": "stdout",
     "output_type": "stream",
     "text": [
      "Confusion Matrix:\n",
      " [[2436    9]\n",
      " [   6  549]]\n",
      "\n",
      "Classification Report:\n",
      "               precision    recall  f1-score   support\n",
      "\n",
      "           0       1.00      1.00      1.00      2445\n",
      "           1       0.98      0.99      0.99       555\n",
      "\n",
      "    accuracy                           0.99      3000\n",
      "   macro avg       0.99      0.99      0.99      3000\n",
      "weighted avg       1.00      0.99      1.00      3000\n",
      "\n"
     ]
    }
   ],
   "source": [
    "from sklearn.tree import DecisionTreeClassifier\n",
    "\n",
    "# Split the data into training and test set with stratification\n",
    "X_train, X_test, y_train, y_test = train_test_split(X, y, test_size=0.3, stratify=y, random_state=43)\n",
    "\n",
    "# Create the decision tree model\n",
    "model = DecisionTreeClassifier(random_state=42)\n",
    "\n",
    "# Fit the model\n",
    "model.fit(X_train, y_train)\n",
    "\n",
    "# Make prediction on the test set\n",
    "y_pred = model.predict(X_test)\n",
    "\n",
    "# Evaluate the model\n",
    "print(\"Confusion Matrix:\\n\", confusion_matrix(y_test, y_pred))\n",
    "print(\"\\nClassification Report:\\n\", classification_report(y_test, y_pred))"
   ]
  },
  {
   "cell_type": "markdown",
   "metadata": {},
   "source": [
    "### Fourth Model: Random Forest"
   ]
  },
  {
   "cell_type": "code",
   "execution_count": 25,
   "metadata": {},
   "outputs": [],
   "source": [
    "from sklearn.ensemble import RandomForestRegressor\n",
    "from sklearn.metrics import mean_absolute_error, mean_squared_error, r2_score\n",
    "\n",
    "\n",
    "# Split the data into training and validation sets with stratification\n",
    "X_train, X_val, y_train, y_val = train_test_split(X, y, test_size=0.2, stratify=y, random_state=42)\n",
    "\n",
    "params = {\n",
    "    \"n_estimators\": 100,\n",
    "    \"max_depth\": 6,\n",
    "    \"min_samples_split\": 10,\n",
    "    \"min_samples_leaf\": 4,\n",
    "    \"bootstrap\": True,\n",
    "    \"oob_score\": False,\n",
    "    \"random_state\": 42,\n",
    "}\n",
    "\n",
    "# Train the RandomForestRegressor\n",
    "rf = RandomForestRegressor(**params)\n",
    "\n",
    "# Fit the model on the training data\n",
    "rf.fit(X_train, y_train)\n",
    "\n",
    "# Predict on the validation set\n",
    "y_pred = rf.predict(X_val)\n",
    "\n",
    "# Calculate error metrics\n",
    "mae = mean_absolute_error(y_val, y_pred)\n",
    "mse = mean_squared_error(y_val, y_pred)\n",
    "rmse = np.sqrt(mse)\n",
    "r2 = r2_score(y_val, y_pred)\n",
    "\n",
    "# Assemble the metrics we're going to write into a collection\n",
    "metrics = {\"mae\": mae, \"mse\": mse, \"rmse\": rmse, \"r2\": r2}\n",
    "\n",
    "# Initiate the MLflow run context\n",
    "with mlflow.start_run(run_name=run_name) as run:\n",
    "    # Log the parameters used for the model fit\n",
    "    mlflow.log_params(params)\n",
    "\n",
    "    # Log the error metrics that were calculated during validation\n",
    "    mlflow.log_metrics(metrics)\n",
    "\n",
    "    # Log an instance of the trained model for later use\n",
    "    mlflow.sklearn.log_model(\n",
    "        sk_model=rf, input_example=X_val, artifact_path=artifact_path\n",
    "    )\n"
   ]
  },
  {
   "cell_type": "code",
   "execution_count": 27,
   "metadata": {},
   "outputs": [
    {
     "data": {
      "text/plain": [
       "{'mae': 0.00713665030347078,\n",
       " 'mse': 0.0027204137655599306,\n",
       " 'rmse': 0.05215758588700143,\n",
       " 'r2': 0.981957129726016}"
      ]
     },
     "execution_count": 27,
     "metadata": {},
     "output_type": "execute_result"
    }
   ],
   "source": [
    "# Display metrics\n",
    "metrics"
   ]
  }
 ],
 "metadata": {
  "kernelspec": {
   "display_name": "venv",
   "language": "python",
   "name": "python3"
  },
  "language_info": {
   "codemirror_mode": {
    "name": "ipython",
    "version": 3
   },
   "file_extension": ".py",
   "mimetype": "text/x-python",
   "name": "python",
   "nbconvert_exporter": "python",
   "pygments_lexer": "ipython3",
   "version": "3.11.7"
  }
 },
 "nbformat": 4,
 "nbformat_minor": 2
}
